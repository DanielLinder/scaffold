{
 "cells": [
  {
   "cell_type": "markdown",
   "metadata": {},
   "source": [
    "# Frame the Product\n",
    "\n",
    "1. Converting the product goal into a Machine Learning paradigm - online & offline metrics\n",
    "\n",
    "    Machine learning is in essence learning a function from data. This function is usually something that is too complex for a human to compute easily, and that's why you're turning to the machine learn it for you. So what are you actually looking to do? Trying to identify cats vs dogs? Trying to recommend movies to people? Trying to prevent fraudulent payments?\n",
    "    \n",
    "    How do we then convert this to a machine learning problem? First, we have to think of the business metrics that will define if we're solving the problem. Sometimes this is easy and straightforward, and other times it's much more difficult.\n",
    "    \n",
    "    Let's look at our 3 examples to start:\n",
    "    \n",
    "    \n",
    "a. **Identifying cats vs. dogs** - What we want is something that given an image can output whether the image is a dog or a cat with the highest probability of being correct. We're assumging here that being incorrect in either way has the same weight (calling a dog a cat vs. a cat a dog).\n",
    "    \n",
    "    \n",
    "b. **Movie Recommendation** - You have to recommend the movie that we think the user will like the most, but how do we measure it? Maybe it's the action taken after the recommendation, like what the chance of someone clicking on the recommended movie. Or maybe it's the chance of them watching the whole recommended movie and not just clicking on it. Or maybe it's watching the whole movie and actually rating it with a rating > X. These business metrics have to be built on data and with a human in the loop. Think about the user on the other side, what actually needs to happen to convince you that this was a great recommendation?\n",
    "    \n",
    "    \n",
    "c. **Fraud Prevention** - You have to build a product that stops fraudulent payments, but what makes the product better? This is even more difficult than the previous 2 problems, as there is a tradeoff between preventing fraudulent payments and allowing non-fraudulent payments. If you wanted to stop all fraud, no problem! Block all payments! This obviously isn't the answer you want. You could look at the difference between the euro amount of successful payments and the euro amount of fraudulent transactions. This still actually isn't always going to be correct if we're talking about different companies using this product, because the margins of different companies can be very different. For example, a company like Tinder cares less about 1000 euro of fraud than Nike, because the actual cost to Tinder to give our extra swiped is a few pings on their server, whereas a company like Nike is actually sending out physical goods. If we can get this input from the companies, then we may calculate something like this:\n",
    "    \n",
    "    Z = payment_euro_amount - fraud_euro_amount * X\n",
    "    \n",
    "    X:= accepted ratio of payment_euro_amount / fraud_euro_amount tradeoff\n",
    "    \n",
    "    For example if the trade-off is 3:1 (i.e. 33 euro cents of fraud = 1 accepted euro).\n",
    "    \n",
    "If we can't get this information from the company, then either we'll make a global assumption (i.e. always 5:1 tradeoff) or a few specific assumptions (i.e. 1:1 for physical goods and 5:1 for digital goods). The actual problem is even more complex as there are certain levels of fraud/non-fraud ratios that put companies into the \"penalty box\" who thereby have to pay more money per transaction for not making more of an effort to block fraud.\n",
    "\n",
    "You can start to understand why we need a human in the loop for this part of the flow =)"
   ]
  },
  {
   "cell_type": "markdown",
   "metadata": {},
   "source": [
    "2. Evaluate if ML is really the way to go\n",
    "\n",
    "\n",
    "3. Understand if you can pull the correct levers to make this product better through ML\n"
   ]
  },
  {
   "cell_type": "code",
   "execution_count": null,
   "metadata": {},
   "outputs": [],
   "source": []
  }
 ],
 "metadata": {
  "kernelspec": {
   "display_name": "Python 3",
   "language": "python",
   "name": "python3"
  },
  "language_info": {
   "codemirror_mode": {
    "name": "ipython",
    "version": 3
   },
   "file_extension": ".py",
   "mimetype": "text/x-python",
   "name": "python",
   "nbconvert_exporter": "python",
   "pygments_lexer": "ipython3",
   "version": "3.6.8"
  }
 },
 "nbformat": 4,
 "nbformat_minor": 4
}
